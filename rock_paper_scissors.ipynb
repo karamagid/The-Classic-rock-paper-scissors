{
 "cells": [
  {
   "cell_type": "code",
   "execution_count": 2,
   "id": "f35a9f23-8d66-44de-b2ac-f3aaa29308e4",
   "metadata": {},
   "outputs": [
    {
     "name": "stdout",
     "output_type": "stream",
     "text": [
      "Welcome to the Classic Game of rock, paper, scissors!\n",
      "Round 1\n"
     ]
    },
    {
     "name": "stdin",
     "output_type": "stream",
     "text": [
      "Ready to play? Choose your weapon: rock, paper, or scissors:  rock\n"
     ]
    },
    {
     "name": "stdout",
     "output_type": "stream",
     "text": [
      "You lost, the computer chose paper\n",
      "Your score is 0 and the computer's score is 1\n",
      "\n",
      "Round 2\n"
     ]
    },
    {
     "name": "stdin",
     "output_type": "stream",
     "text": [
      "Ready to play? Choose your weapon: rock, paper, or scissors:  rock\n"
     ]
    },
    {
     "name": "stdout",
     "output_type": "stream",
     "text": [
      "You lost, the computer chose paper\n",
      "Your score is 0 and the computer's score is 2\n",
      "\n",
      "Round 3\n"
     ]
    },
    {
     "name": "stdin",
     "output_type": "stream",
     "text": [
      "Ready to play? Choose your weapon: rock, paper, or scissors:  paper\n"
     ]
    },
    {
     "name": "stdout",
     "output_type": "stream",
     "text": [
      "You drew, the computer also chose paper\n",
      "Your score is 0 and the computer's score is 2\n",
      "\n",
      "\n",
      "Thanks for playing, your score is 0 and the computer's score is 2\n",
      "Better luck next time!\n",
      "\n"
     ]
    }
   ],
   "source": [
    "import random\n",
    "\n",
    "NUM_ROUNDS = 3\n",
    "def main():\n",
    "    \"\"\" \n",
    "        A program that potrays the classic game of rock, paper, scissors \n",
    "        that lets the user play with the computer 3 rounds. The result is \n",
    "        later displayed with a message of how they played.    \n",
    "    \"\"\"\n",
    "    # Welcome statement\n",
    "    print(\"Welcome to the Classic Game of rock, paper, scissors!\")\n",
    "    \n",
    "    # Initiate user score and computer score at 0\n",
    "    score = 0\n",
    "    comp = 0\n",
    "\n",
    "    # Generate thee computer's choice\n",
    "    computer_choice = random.choice([\"rock\", \"paper\", \"scissors\"] )\n",
    "   \n",
    "    for i in range(NUM_ROUNDS): # 3 rounds to be played\n",
    "        print(\"Round\",i+1)\n",
    "\n",
    "        # Generate the user's choice and input    \n",
    "        user_input = input(\"Ready to play? Choose your weapon: rock, paper, or scissors: \")\n",
    "        choices = [\"rock\", \"paper\", \"scissors\"]\n",
    "        \n",
    "        # Protect the user input\n",
    "        if user_input == \"\" or user_input not in choices:\n",
    "            print(\"Please select rock, paper or scissors when playing!\")\n",
    "            \n",
    "        else:\n",
    "            # Determine who wins using control flow\n",
    "            if user_input == \"rock\" and computer_choice == \"scissors\":\n",
    "                score += 1\n",
    "                print(\"You won, the computer chose\", computer_choice)\n",
    "                print(\"Your score is\", score, \"and the computer's score is\", comp)\n",
    "                \n",
    "            elif user_input == \"paper\" and computer_choice == \"rock\":\n",
    "                score += 1\n",
    "                print(\"You won, the computer chose\", computer_choice)\n",
    "                print(\"Your score is\", score, \"and the computer's score is\", comp)\n",
    "                \n",
    "            elif user_input == \"scissors\" and computer_choice == \"paper\":\n",
    "                score += 1\n",
    "                print(\"You won, the computer chose\", computer_choice)\n",
    "                print(\"Your score is\", score,\"and the computer's score is\", comp)\n",
    "                \n",
    "            elif user_input == computer_choice:\n",
    "                print(\"You drew, the computer also chose\", computer_choice)\n",
    "                print(\"Your score is\", score,\"and the computer's score is\", comp)\n",
    "\n",
    "            else:\n",
    "                comp += 1\n",
    "                print(\"You lost, the computer chose\", computer_choice)\n",
    "                print(\"Your score is\", score,\"and the computer's score is\", comp)\n",
    "            print(\"\")\n",
    "  \n",
    "\n",
    "    print(\"\")    \n",
    "    print(\"Thanks for playing, your score is\", score, \"and the computer's score is\", comp)\n",
    "    \n",
    "    # Final message on how they played\n",
    "    if score == NUM_ROUNDS: # Won all the rounds\n",
    "        print(\"Wow! You're the champ!\")\n",
    "    \n",
    "    elif score > NUM_ROUNDS // 2: # Won atleast half the rounds\n",
    "        print(\"Great job, you played well!\")\n",
    "    \n",
    "    else: # Didn't win or drew or only won 1 round\n",
    "        print(\"Better luck next time!\")\n",
    "    \n",
    "    print(\"\")\n",
    "if __name__ == \"__main__\":\n",
    "    main()"
   ]
  },
  {
   "cell_type": "code",
   "execution_count": null,
   "id": "83d855eb-f4b8-4518-862a-5c6844d09139",
   "metadata": {},
   "outputs": [],
   "source": []
  }
 ],
 "metadata": {
  "kernelspec": {
   "display_name": "Python 3 (ipykernel)",
   "language": "python",
   "name": "python3"
  },
  "language_info": {
   "codemirror_mode": {
    "name": "ipython",
    "version": 3
   },
   "file_extension": ".py",
   "mimetype": "text/x-python",
   "name": "python",
   "nbconvert_exporter": "python",
   "pygments_lexer": "ipython3",
   "version": "3.12.4"
  }
 },
 "nbformat": 4,
 "nbformat_minor": 5
}
